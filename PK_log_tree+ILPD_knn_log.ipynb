{
 "cells": [
  {
   "cell_type": "markdown",
   "id": "ef7313a2",
   "metadata": {},
   "source": [
    "# Parkinson Dataset with replicated acoustic features Data Set \n",
    "(http://archive.ics.uci.edu/ml/datasets/Parkinson+Dataset+with+replicated+acoustic+features+ ) contains acoustic features extracted from 3 voice recording replications of the sustained /a/phonation for each one of the 80 subjects (Some of them with Parkinson's Disease, i.e., status=1). \n",
    "## Please find the data as Parkinson.csv file. (Hint: columns ‘ID’ and ‘Recording’ can not be considered as the features.)"
   ]
  },
  {
   "cell_type": "markdown",
   "id": "592ac34a",
   "metadata": {},
   "source": [
    "# a. Given a dataset to analyze, before designing supervised learning model or unsupervised model, we need to understand the structure and statistics of the data, i.e., distribution of class labels, distribution of each feature, etc. "
   ]
  },
  {
   "cell_type": "code",
   "execution_count": 36,
   "id": "379fabea",
   "metadata": {},
   "outputs": [],
   "source": [
    "import pandas as pd\n",
    "Parkinson = pd.read_csv(\"/Users/Shared/Files From d.localized/Spring2023/AI/programming assignment 1/Parkinson.csv\",\n",
    "                                 index_col = False, header = 0) \n",
    "\n"
   ]
  },
  {
   "cell_type": "code",
   "execution_count": 37,
   "id": "060c5240",
   "metadata": {},
   "outputs": [
    {
     "data": {
      "text/html": [
       "<div>\n",
       "<style scoped>\n",
       "    .dataframe tbody tr th:only-of-type {\n",
       "        vertical-align: middle;\n",
       "    }\n",
       "\n",
       "    .dataframe tbody tr th {\n",
       "        vertical-align: top;\n",
       "    }\n",
       "\n",
       "    .dataframe thead th {\n",
       "        text-align: right;\n",
       "    }\n",
       "</style>\n",
       "<table border=\"1\" class=\"dataframe\">\n",
       "  <thead>\n",
       "    <tr style=\"text-align: right;\">\n",
       "      <th></th>\n",
       "      <th>ID</th>\n",
       "      <th>Recording</th>\n",
       "      <th>Status</th>\n",
       "      <th>Gender</th>\n",
       "      <th>Jitter_rel</th>\n",
       "      <th>Jitter_abs</th>\n",
       "      <th>Jitter_RAP</th>\n",
       "      <th>Jitter_PPQ</th>\n",
       "      <th>Shim_loc</th>\n",
       "      <th>Shim_dB</th>\n",
       "      <th>...</th>\n",
       "      <th>Delta3</th>\n",
       "      <th>Delta4</th>\n",
       "      <th>Delta5</th>\n",
       "      <th>Delta6</th>\n",
       "      <th>Delta7</th>\n",
       "      <th>Delta8</th>\n",
       "      <th>Delta9</th>\n",
       "      <th>Delta10</th>\n",
       "      <th>Delta11</th>\n",
       "      <th>Delta12</th>\n",
       "    </tr>\n",
       "  </thead>\n",
       "  <tbody>\n",
       "    <tr>\n",
       "      <th>0</th>\n",
       "      <td>CONT-01</td>\n",
       "      <td>1</td>\n",
       "      <td>0</td>\n",
       "      <td>1</td>\n",
       "      <td>0.25546</td>\n",
       "      <td>0.000015</td>\n",
       "      <td>0.001467</td>\n",
       "      <td>0.001673</td>\n",
       "      <td>0.030256</td>\n",
       "      <td>0.26313</td>\n",
       "      <td>...</td>\n",
       "      <td>1.407701</td>\n",
       "      <td>1.417218</td>\n",
       "      <td>1.380352</td>\n",
       "      <td>1.420670</td>\n",
       "      <td>1.451240</td>\n",
       "      <td>1.440295</td>\n",
       "      <td>1.403678</td>\n",
       "      <td>1.405495</td>\n",
       "      <td>1.416705</td>\n",
       "      <td>1.354610</td>\n",
       "    </tr>\n",
       "    <tr>\n",
       "      <th>1</th>\n",
       "      <td>CONT-01</td>\n",
       "      <td>2</td>\n",
       "      <td>0</td>\n",
       "      <td>1</td>\n",
       "      <td>0.36964</td>\n",
       "      <td>0.000022</td>\n",
       "      <td>0.001932</td>\n",
       "      <td>0.002245</td>\n",
       "      <td>0.023146</td>\n",
       "      <td>0.20217</td>\n",
       "      <td>...</td>\n",
       "      <td>1.331232</td>\n",
       "      <td>1.227338</td>\n",
       "      <td>1.213377</td>\n",
       "      <td>1.352739</td>\n",
       "      <td>1.354242</td>\n",
       "      <td>1.365692</td>\n",
       "      <td>1.322870</td>\n",
       "      <td>1.314549</td>\n",
       "      <td>1.318999</td>\n",
       "      <td>1.323508</td>\n",
       "    </tr>\n",
       "    <tr>\n",
       "      <th>2</th>\n",
       "      <td>CONT-01</td>\n",
       "      <td>3</td>\n",
       "      <td>0</td>\n",
       "      <td>1</td>\n",
       "      <td>0.23514</td>\n",
       "      <td>0.000013</td>\n",
       "      <td>0.001353</td>\n",
       "      <td>0.001546</td>\n",
       "      <td>0.019338</td>\n",
       "      <td>0.16710</td>\n",
       "      <td>...</td>\n",
       "      <td>1.412304</td>\n",
       "      <td>1.324674</td>\n",
       "      <td>1.276088</td>\n",
       "      <td>1.429634</td>\n",
       "      <td>1.455996</td>\n",
       "      <td>1.368882</td>\n",
       "      <td>1.438053</td>\n",
       "      <td>1.388910</td>\n",
       "      <td>1.305469</td>\n",
       "      <td>1.305402</td>\n",
       "    </tr>\n",
       "    <tr>\n",
       "      <th>3</th>\n",
       "      <td>CONT-02</td>\n",
       "      <td>1</td>\n",
       "      <td>0</td>\n",
       "      <td>0</td>\n",
       "      <td>0.29320</td>\n",
       "      <td>0.000017</td>\n",
       "      <td>0.001105</td>\n",
       "      <td>0.001444</td>\n",
       "      <td>0.024716</td>\n",
       "      <td>0.20892</td>\n",
       "      <td>...</td>\n",
       "      <td>1.501200</td>\n",
       "      <td>1.534170</td>\n",
       "      <td>1.323993</td>\n",
       "      <td>1.496442</td>\n",
       "      <td>1.472926</td>\n",
       "      <td>1.643177</td>\n",
       "      <td>1.551286</td>\n",
       "      <td>1.638346</td>\n",
       "      <td>1.604008</td>\n",
       "      <td>1.621456</td>\n",
       "    </tr>\n",
       "    <tr>\n",
       "      <th>4</th>\n",
       "      <td>CONT-02</td>\n",
       "      <td>2</td>\n",
       "      <td>0</td>\n",
       "      <td>0</td>\n",
       "      <td>0.23075</td>\n",
       "      <td>0.000015</td>\n",
       "      <td>0.001073</td>\n",
       "      <td>0.001404</td>\n",
       "      <td>0.013119</td>\n",
       "      <td>0.11607</td>\n",
       "      <td>...</td>\n",
       "      <td>1.508468</td>\n",
       "      <td>1.334511</td>\n",
       "      <td>1.610694</td>\n",
       "      <td>1.685021</td>\n",
       "      <td>1.417614</td>\n",
       "      <td>1.574895</td>\n",
       "      <td>1.640088</td>\n",
       "      <td>1.533666</td>\n",
       "      <td>1.297536</td>\n",
       "      <td>1.382023</td>\n",
       "    </tr>\n",
       "  </tbody>\n",
       "</table>\n",
       "<p>5 rows × 48 columns</p>\n",
       "</div>"
      ],
      "text/plain": [
       "        ID  Recording  Status  Gender  Jitter_rel  Jitter_abs  Jitter_RAP  \\\n",
       "0  CONT-01          1       0       1     0.25546    0.000015    0.001467   \n",
       "1  CONT-01          2       0       1     0.36964    0.000022    0.001932   \n",
       "2  CONT-01          3       0       1     0.23514    0.000013    0.001353   \n",
       "3  CONT-02          1       0       0     0.29320    0.000017    0.001105   \n",
       "4  CONT-02          2       0       0     0.23075    0.000015    0.001073   \n",
       "\n",
       "   Jitter_PPQ  Shim_loc  Shim_dB  ...    Delta3    Delta4    Delta5    Delta6  \\\n",
       "0    0.001673  0.030256  0.26313  ...  1.407701  1.417218  1.380352  1.420670   \n",
       "1    0.002245  0.023146  0.20217  ...  1.331232  1.227338  1.213377  1.352739   \n",
       "2    0.001546  0.019338  0.16710  ...  1.412304  1.324674  1.276088  1.429634   \n",
       "3    0.001444  0.024716  0.20892  ...  1.501200  1.534170  1.323993  1.496442   \n",
       "4    0.001404  0.013119  0.11607  ...  1.508468  1.334511  1.610694  1.685021   \n",
       "\n",
       "     Delta7    Delta8    Delta9   Delta10   Delta11   Delta12  \n",
       "0  1.451240  1.440295  1.403678  1.405495  1.416705  1.354610  \n",
       "1  1.354242  1.365692  1.322870  1.314549  1.318999  1.323508  \n",
       "2  1.455996  1.368882  1.438053  1.388910  1.305469  1.305402  \n",
       "3  1.472926  1.643177  1.551286  1.638346  1.604008  1.621456  \n",
       "4  1.417614  1.574895  1.640088  1.533666  1.297536  1.382023  \n",
       "\n",
       "[5 rows x 48 columns]"
      ]
     },
     "execution_count": 37,
     "metadata": {},
     "output_type": "execute_result"
    }
   ],
   "source": [
    "Parkinson.head()"
   ]
  },
  {
   "cell_type": "code",
   "execution_count": 38,
   "id": "022f0ea7",
   "metadata": {},
   "outputs": [
    {
     "data": {
      "text/plain": [
       "ID             object\n",
       "Recording       int64\n",
       "Status          int64\n",
       "Gender          int64\n",
       "Jitter_rel    float64\n",
       "Jitter_abs    float64\n",
       "Jitter_RAP    float64\n",
       "Jitter_PPQ    float64\n",
       "Shim_loc      float64\n",
       "Shim_dB       float64\n",
       "Shim_APQ3     float64\n",
       "Shim_APQ5     float64\n",
       "Shi_APQ11     float64\n",
       "HNR05         float64\n",
       "HNR15         float64\n",
       "HNR25         float64\n",
       "HNR35         float64\n",
       "HNR38         float64\n",
       "RPDE          float64\n",
       "DFA           float64\n",
       "PPE           float64\n",
       "GNE           float64\n",
       "MFCC0         float64\n",
       "MFCC1         float64\n",
       "MFCC2         float64\n",
       "MFCC3         float64\n",
       "MFCC4         float64\n",
       "MFCC5         float64\n",
       "MFCC6         float64\n",
       "MFCC7         float64\n",
       "MFCC8         float64\n",
       "MFCC9         float64\n",
       "MFCC10        float64\n",
       "MFCC11        float64\n",
       "MFCC12        float64\n",
       "Delta0        float64\n",
       "Delta1        float64\n",
       "Delta2        float64\n",
       "Delta3        float64\n",
       "Delta4        float64\n",
       "Delta5        float64\n",
       "Delta6        float64\n",
       "Delta7        float64\n",
       "Delta8        float64\n",
       "Delta9        float64\n",
       "Delta10       float64\n",
       "Delta11       float64\n",
       "Delta12       float64\n",
       "dtype: object"
      ]
     },
     "execution_count": 38,
     "metadata": {},
     "output_type": "execute_result"
    }
   ],
   "source": [
    "Parkinson.dtypes"
   ]
  },
  {
   "cell_type": "code",
   "execution_count": 39,
   "id": "968e0fa8",
   "metadata": {},
   "outputs": [
    {
     "name": "stdout",
     "output_type": "stream",
     "text": [
      "case 120\n",
      "control 120\n"
     ]
    }
   ],
   "source": [
    "n_case = len(Parkinson[Parkinson[\"Status\"]==1])\n",
    "n_control = len(Parkinson[Parkinson[\"Status\"]==0])\n",
    "\n",
    "print(\"case\",n_case)\n",
    "print(\"control\",n_control)"
   ]
  },
  {
   "cell_type": "code",
   "execution_count": 40,
   "id": "bbbf3760",
   "metadata": {},
   "outputs": [
    {
     "data": {
      "text/plain": [
       "<function matplotlib.pyplot.show(close=None, block=None)>"
      ]
     },
     "execution_count": 40,
     "metadata": {},
     "output_type": "execute_result"
    },
    {
     "data": {
      "image/png": "[encoded data removed]",
      "text/plain": [
       "<Figure size 640x480 with 1 Axes>"
      ]
     },
     "metadata": {},
     "output_type": "display_data"
    }
   ],
   "source": [
    "import matplotlib.pyplot as plt\n",
    "plt.bar([\"Cases (with Parkinson's Disease)\",\"Controls (without Parkinson's Disease)\"],[n_case,n_control])\n",
    "plt.ylabel(\"number of subjects\")\n",
    "plt.show"
   ]
  },
  {
   "cell_type": "code",
   "execution_count": 52,
   "id": "80c73da9",
   "metadata": {},
   "outputs": [
    {
     "name": "stdout",
     "output_type": "stream",
     "text": [
      "ID            0.0\n",
      "Recording     0.0\n",
      "Status        0.0\n",
      "Gender        0.0\n",
      "Jitter_rel    0.0\n",
      "Jitter_abs    0.0\n",
      "Jitter_RAP    0.0\n",
      "Jitter_PPQ    0.0\n",
      "Shim_loc      0.0\n",
      "Shim_dB       0.0\n",
      "Shim_APQ3     0.0\n",
      "Shim_APQ5     0.0\n",
      "Shi_APQ11     0.0\n",
      "HNR05         0.0\n",
      "HNR15         0.0\n",
      "HNR25         0.0\n",
      "HNR35         0.0\n",
      "HNR38         0.0\n",
      "RPDE          0.0\n",
      "DFA           0.0\n",
      "PPE           0.0\n",
      "GNE           0.0\n",
      "MFCC0         0.0\n",
      "MFCC1         0.0\n",
      "MFCC2         0.0\n",
      "MFCC3         0.0\n",
      "MFCC4         0.0\n",
      "MFCC5         0.0\n",
      "MFCC6         0.0\n",
      "MFCC7         0.0\n",
      "MFCC8         0.0\n",
      "MFCC9         0.0\n",
      "MFCC10        0.0\n",
      "MFCC11        0.0\n",
      "MFCC12        0.0\n",
      "Delta0        0.0\n",
      "Delta1        0.0\n",
      "Delta2        0.0\n",
      "Delta3        0.0\n",
      "Delta4        0.0\n",
      "Delta5        0.0\n",
      "Delta6        0.0\n",
      "Delta7        0.0\n",
      "Delta8        0.0\n",
      "Delta9        0.0\n",
      "Delta10       0.0\n",
      "Delta11       0.0\n",
      "Delta12       0.0\n",
      "dtype: float64\n"
     ]
    }
   ],
   "source": [
    "# missing distribution # null-> missing rate\n",
    "missing_dis = Parkinson.isnull().sum()/len(Parkinson)\n",
    "print(missing_dis)"
   ]
  },
  {
   "cell_type": "code",
   "execution_count": 53,
   "id": "01af111f",
   "metadata": {},
   "outputs": [
    {
     "name": "stdout",
     "output_type": "stream",
     "text": [
      "           Status      Gender  Jitter_rel  Jitter_abs  Jitter_RAP  Jitter_PPQ  \\\n",
      "count  240.000000  240.000000  240.000000  240.000000  240.000000  240.000000   \n",
      "mean     0.500000    0.400000    0.583987    0.000044    0.003172    0.003532   \n",
      "std      0.501045    0.490922    0.535769    0.000045    0.003373    0.004449   \n",
      "min      0.000000    0.000000    0.148010    0.000007    0.000678    0.001036   \n",
      "25%      0.000000    0.000000    0.298260    0.000019    0.001551    0.001867   \n",
      "50%      0.500000    0.000000    0.481455    0.000035    0.002337    0.002870   \n",
      "75%      1.000000    1.000000    0.681685    0.000056    0.003678    0.003991   \n",
      "max      1.000000    1.000000    6.838200    0.000550    0.043843    0.065199   \n",
      "\n",
      "         Shim_loc     Shim_dB   Shim_APQ3   Shim_APQ5  ...      Delta3  \\\n",
      "count  240.000000  240.000000  240.000000  240.000000  ...  240.000000   \n",
      "mean     0.038428    0.336832    0.021499    0.023468  ...    1.343238   \n",
      "std      0.023213    0.205905    0.013787    0.014402  ...    0.198174   \n",
      "min      0.007444    0.064989    0.003344    0.004103  ...    0.766458   \n",
      "25%      0.024336    0.211785    0.012910    0.014985  ...    1.208624   \n",
      "50%      0.032960    0.287885    0.018571    0.019897  ...    1.351015   \n",
      "75%      0.045475    0.399860    0.025784    0.027900  ...    1.488878   \n",
      "max      0.192600    1.747600    0.113240    0.120760  ...    1.860588   \n",
      "\n",
      "           Delta4      Delta5      Delta6      Delta7      Delta8      Delta9  \\\n",
      "count  240.000000  240.000000  240.000000  240.000000  240.000000  240.000000   \n",
      "mean     1.348914    1.337717    1.341786    1.340895    1.343978    1.341472   \n",
      "std      0.212008    0.204978    0.209407    0.213689    0.211364    0.204085   \n",
      "min      0.840133    0.741690    0.759689    0.764649    0.762798    0.811942   \n",
      "25%      1.221101    1.197868    1.194186    1.194138    1.191881    1.189515   \n",
      "50%      1.342237    1.337233    1.338437    1.344416    1.335517    1.349243   \n",
      "75%      1.470287    1.485597    1.496845    1.490389    1.495355    1.475330   \n",
      "max      2.038241    1.785984    1.988090    1.872799    1.920131    1.943331   \n",
      "\n",
      "          Delta10     Delta11     Delta12  \n",
      "count  240.000000  240.000000  240.000000  \n",
      "mean     1.331433    1.346381    1.346144  \n",
      "std      0.211297    0.221484    0.208819  \n",
      "min      0.777012    0.643132    0.748411  \n",
      "25%      1.192397    1.202525    1.206559  \n",
      "50%      1.333345    1.347297    1.331212  \n",
      "75%      1.472589    1.506674    1.475235  \n",
      "max      1.949679    1.918392    1.930103  \n",
      "\n",
      "[8 rows x 46 columns]\n"
     ]
    }
   ],
   "source": [
    "feature_distribution = Parkinson.drop(columns = ['ID','Recording']).describe() \n",
    "print(feature_distribution)"
   ]
  },
  {
   "cell_type": "markdown",
   "id": "e1fdd35b",
   "metadata": {},
   "source": [
    "# b. Considering each record as an individual sample, please train a decision tree classifier (max_depth = 3) to predict the status of each sample. "
   ]
  },
  {
   "cell_type": "code",
   "execution_count": 78,
   "id": "ffd158f2",
   "metadata": {},
   "outputs": [
    {
     "name": "stdout",
     "output_type": "stream",
     "text": [
      "feature_used ['Gender', 'Jitter_rel', 'Jitter_abs', 'Jitter_RAP', 'Jitter_PPQ', 'Shim_loc', 'Shim_dB', 'Shim_APQ3', 'Shim_APQ5', 'Shi_APQ11', 'HNR05', 'HNR15', 'HNR25', 'HNR35', 'HNR38', 'RPDE', 'DFA', 'PPE', 'GNE', 'MFCC0', 'MFCC1', 'MFCC2', 'MFCC3', 'MFCC4', 'MFCC5', 'MFCC6', 'MFCC7', 'MFCC8', 'MFCC9', 'MFCC10', 'MFCC11', 'MFCC12', 'Delta0', 'Delta1', 'Delta2', 'Delta3', 'Delta4', 'Delta5', 'Delta6', 'Delta7', 'Delta8', 'Delta9', 'Delta10', 'Delta11', 'Delta12']\n",
      "(216, 45) (24, 45) (216,) (24,)\n"
     ]
    }
   ],
   "source": [
    "from sklearn.model_selection import train_test_split \n",
    "y = Parkinson[\"Status\"].values\n",
    "X = Parkinson.drop(columns=[\"ID\",\"Recording\",\"Status\"]).values\n",
    "feature_used = Parkinson.drop(columns=[\"ID\",\"Recording\",'Status']).columns.tolist()\n",
    "print(\"feature_used\",feature_used)\n",
    "\n",
    "X_train, X_test, y_train, y_test = train_test_split(X, y, test_size=0.10, random_state=0)\n",
    "print(X_train.shape, X_test.shape, y_train.shape, y_test.shape)"
   ]
  },
  {
   "cell_type": "code",
   "execution_count": 79,
   "id": "2e5d4098",
   "metadata": {},
   "outputs": [],
   "source": [
    "from sklearn.impute import SimpleImputer\n",
    "import numpy as np\n",
    "imputer = SimpleImputer(missing_values = np.nan, strategy = \"mean\") \n",
    "imputer.fit(X_train)\n",
    "X_train = np.array(imputer.transform(X_train),dtype = np.float32)\n",
    "X_test = np.array(imputer.transform(X_test),dtype = np.float32)"
   ]
  },
  {
   "cell_type": "code",
   "execution_count": 80,
   "id": "f5587bf5",
   "metadata": {},
   "outputs": [
    {
     "name": "stdout",
     "output_type": "stream",
     "text": [
      "[0 0 0 0 0 1 1 1 0 1 0 1 0 1 1 1 1 0 1 0 0 0 1 0]\n",
      "              precision    recall  f1-score   support\n",
      "\n",
      "           0       0.77      0.91      0.83        11\n",
      "           1       0.91      0.77      0.83        13\n",
      "\n",
      "    accuracy                           0.83        24\n",
      "   macro avg       0.84      0.84      0.83        24\n",
      "weighted avg       0.84      0.83      0.83        24\n",
      "\n"
     ]
    }
   ],
   "source": [
    "from sklearn.tree import DecisionTreeClassifier\n",
    "tree = DecisionTreeClassifier(criterion = 'gini', max_depth = 3, class_weight = 'balanced', random_state = 0)\n",
    "# train the tree\n",
    "tree.fit(X_train, y_train)\n",
    "# use the trained classifier to predict in test set\n",
    "y_pred = tree.predict(X_test)\n",
    "print(y_pred)\n",
    "# Evaluate the prediciton performance\n",
    "from sklearn.metrics import classification_report \n",
    "print(classification_report(y_test, y_pred))"
   ]
  },
  {
   "cell_type": "markdown",
   "id": "06f7b8fc",
   "metadata": {},
   "source": [
    "Precision: It measures the accuracy of the positive predictions. In this context, for class 0, the precision is 0.77, meaning that out of all instances predicted as class 0, 77% are actually class 0. For class 1, the precision is 0.91, indicating that 91% of instances predicted as class 1 are indeed class 1.\n",
    "\n",
    "Recall: It measures the ability of the model to find all the positive instances. For class 0, the recall is 0.91, implying that the model correctly identifies 91% of all actual class 0 instances. For class 1, the recall is 0.77, meaning that the model captures 77% of all actual class 1 instances.\n",
    "\n",
    "F1-score: It is the harmonic mean of precision and recall. It provides a balance between precision and recall. A high F1-score indicates both high precision and high recall. For both classes 0 and 1, the F1-score is 0.83, suggesting a good balance between precision and recall.\n",
    "\n",
    "Support: It represents the number of occurrences of each class in the dataset. For class 0, there are 11 instances, and for class 1, there are 13 instances.\n",
    "\n",
    "Accuracy: It is the proportion of correctly classified instances among all instances. In this case, the overall accuracy is 0.83, indicating that the model correctly classifies 83% of all instances.\n",
    "\n",
    "Macro average: It computes the average of the metrics without considering class imbalance. For precision, recall, and F1-score, the macro average is 0.84, indicating good performance across classes.\n",
    "\n",
    "Weighted average: It computes the weighted average of the metrics, taking into account the support (number of true instances) for each class. The weighted average for precision, recall, and F1-score is 0.84, similar to the macro average in this case, as there is no significant class imbalance.\n",
    "\n",
    "Overall, the model seems to perform reasonably well, with balanced precision and recall, and a good F1-score. However, further analysis, such as examining the confusion matrix or considering domain-specific requirements, may be necessary for a more comprehensive evaluation."
   ]
  },
  {
   "cell_type": "code",
   "execution_count": 81,
   "id": "e57cc010",
   "metadata": {},
   "outputs": [],
   "source": [
    "from sklearn.metrics import roc_auc_score,roc_curve \n",
    "y_proba = tree.predict_proba(X_test)[:,1]\n",
    "#Create true and false positive rates\n",
    "fpr_dt, tpr_dt, threshold_dt = roc_curve(y_test,y_proba)"
   ]
  },
  {
   "cell_type": "markdown",
   "id": "006916d0",
   "metadata": {},
   "source": [
    "predict_proba(X_test): This method predicts class probabilities for the samples in X_test. It returns an array where each row corresponds to a sample in X_test, and each column represents the probability of belonging to a particular class.\n",
    "[:, 1]: This indexing operation selects the probabilities of the positive class (class 1) for all samples. \n",
    "The [:, 1] part selects all rows (:) and the second column (1) of the predicted probabilities array, which corresponds to the probabilities of the positive class.\n",
    "So, y_proba will be an array containing the predicted probabilities of the positive class for each sample in the test set."
   ]
  },
  {
   "cell_type": "code",
   "execution_count": 82,
   "id": "adac0414",
   "metadata": {},
   "outputs": [
    {
     "data": {
      "image/png": "[encoded data removed]",
      "text/plain": [
       "<Figure size 1000x600 with 1 Axes>"
      ]
     },
     "metadata": {},
     "output_type": "display_data"
    }
   ],
   "source": [
    "#Plot ROC Curve\n",
    "import matplotlib.pyplot as plt \n",
    "plt.figure(figsize=(10,6)) \n",
    "plt.title('Revceiver Operating Characterstic') \n",
    "plt.plot(fpr_dt, tpr_dt) \n",
    "plt.plot([0,1],ls='--') \n",
    "plt.plot([0,0],[1,0],c='.5') \n",
    "plt.plot([1,1],c='.5')\n",
    "plt.xlabel('False Positive Rate')\n",
    "plt.ylabel('True Positive Rate')\n",
    "plt.show()"
   ]
  },
  {
   "cell_type": "code",
   "execution_count": 83,
   "id": "f4cf30bf",
   "metadata": {},
   "outputs": [
    {
     "name": "stdout",
     "output_type": "stream",
     "text": [
      "0.8006993006993007\n"
     ]
    }
   ],
   "source": [
    "#Calculate area under the curve\n",
    "auc_lr = roc_auc_score(y_test, y_proba)\n",
    "print(auc_lr)"
   ]
  },
  {
   "cell_type": "markdown",
   "id": "5b01da8b",
   "metadata": {},
   "source": [
    "The diagonal line: Represents the ROC curve of a random classifier. Points on this line suggest that the model has no discrimination capability; it's essentially guessing.\n",
    "\n",
    "Points above the diagonal line: Indicate that the model is performing better than random.\n",
    "\n",
    "The top-left corner (0, 1): Represents perfect classification, where the model achieves 100% true positive rate (no false negatives) and 0% false positive rate (no false positives). This is the ideal point.\n",
    "\n",
    "The bottom-right corner (1, 0): Represents the worst classification scenario, where the model predicts all negative instances as positive and all positive instances as negative.\n",
    "\n",
    "Area Under the Curve (AUC): AUC represents the area under the ROC curve. It provides a single scalar value summarizing the model's performance across all possible thresholds. A higher AUC indicates better model performance, with a maximum value of 1 for a perfect classifier."
   ]
  },
  {
   "cell_type": "code",
   "execution_count": 84,
   "id": "8de0452e",
   "metadata": {},
   "outputs": [
    {
     "data": {
      "text/plain": [
       "'decision_tree.pdf'"
      ]
     },
     "execution_count": 84,
     "metadata": {},
     "output_type": "execute_result"
    }
   ],
   "source": [
    "# visualization decision tree\n",
    "import graphviz # Run following code in command line: conda install python-graphviz \n",
    "from sklearn.tree import export_graphviz\n",
    "dot_data = export_graphviz(tree, out_file = None,\n",
    "                           feature_names = feature_used, \n",
    "                           filled = True, rounded = True, \n",
    "                           special_characters = True)\n",
    "graph = graphviz.Source(dot_data)\n",
    "graph.render(\"decision_tree\",cleanup = True) # generate PDF file in your program folder"
   ]
  },
  {
   "cell_type": "code",
   "execution_count": 85,
   "id": "79a3fbd3",
   "metadata": {},
   "outputs": [
    {
     "name": "stderr",
     "output_type": "stream",
     "text": [
      "/opt/anaconda3/lib/python3.9/site-packages/sklearn/utils/deprecation.py:87: FutureWarning: Function plot_confusion_matrix is deprecated; Function `plot_confusion_matrix` is deprecated in 1.0 and will be removed in 1.2. Use one of the class methods: ConfusionMatrixDisplay.from_predictions or ConfusionMatrixDisplay.from_estimator.\n",
      "  warnings.warn(msg, category=FutureWarning)\n"
     ]
    },
    {
     "data": {
      "text/plain": [
       "<sklearn.metrics._plot.confusion_matrix.ConfusionMatrixDisplay at 0x7fe66067a6d0>"
      ]
     },
     "execution_count": 85,
     "metadata": {},
     "output_type": "execute_result"
    },
    {
     "data": {
      "image/png": "[encoded data removed]",
      "text/plain": [
       "<Figure size 640x480 with 2 Axes>"
      ]
     },
     "metadata": {},
     "output_type": "display_data"
    }
   ],
   "source": [
    "from sklearn.metrics import plot_confusion_matrix\n",
    "import matplotlib.pyplot as plt\n",
    "plot_confusion_matrix(tree.fit(X_train, y_train), X_test, y_test, display_labels=[\"Does not have PK\", \"Has PK\"])"
   ]
  },
  {
   "cell_type": "markdown",
   "id": "17634f61",
   "metadata": {},
   "source": [
    "Of the 11 people who did not have PK are correctly classify (10/11); Of the 13 people who did not have PK are correctly classify (10/13)"
   ]
  },
  {
   "cell_type": "code",
   "execution_count": 86,
   "id": "15c363af",
   "metadata": {},
   "outputs": [
    {
     "name": "stdout",
     "output_type": "stream",
     "text": [
      "Collecting package metadata (current_repodata.json): done\n",
      "Solving environment: done\n",
      "\n",
      "\n",
      "==> WARNING: A newer version of conda exists. <==\n",
      "  current version: 23.3.1\n",
      "  latest version: 24.3.0\n",
      "\n",
      "Please update conda by running\n",
      "\n",
      "    $ conda update -n base -c defaults conda\n",
      "\n",
      "Or to minimize the number of packages updated during conda update use\n",
      "\n",
      "     conda install conda=24.3.0\n",
      "\n",
      "\n",
      "\n",
      "# All requested packages already installed.\n",
      "\n",
      "\n",
      "Note: you may need to restart the kernel to use updated packages.\n"
     ]
    }
   ],
   "source": [
    "conda install python-graphviz"
   ]
  },
  {
   "cell_type": "code",
   "execution_count": 87,
   "id": "2b7c3ea4",
   "metadata": {},
   "outputs": [
    {
     "name": "stdout",
     "output_type": "stream",
     "text": [
      "3\n"
     ]
    }
   ],
   "source": [
    "print(tree.get_depth())"
   ]
  },
  {
   "cell_type": "markdown",
   "id": "ef0b883c",
   "metadata": {},
   "source": [
    "# c. Grid Search can help us to tune the model parameters to find the optimal solution. Tune the decision tree classifier to improve the predictive performance"
   ]
  },
  {
   "cell_type": "code",
   "execution_count": 89,
   "id": "53fdc0fe",
   "metadata": {},
   "outputs": [],
   "source": [
    "# class sklearn.model_selection.GridSearchCV(estimator, param_grid, *, scoring=None, n_jobs=None, refit=True, cv=None, verbose=0, pre_dispatch='2*n_jobs', error_score=nan, return_train_score=False)[source]¶"
   ]
  },
  {
   "cell_type": "markdown",
   "id": "6132cca9",
   "metadata": {},
   "source": [
    "estimator: This is the estimator object that implements the scikit-learn estimator interface. It is the model or algorithm that you want to optimize using grid search.\n",
    "\n",
    "param_grid: A dictionary or a list of dictionaries with parameters names as keys and lists of parameter settings to try as values. This specifies the grid of hyperparameters that will be searched over.\n",
    "ex. max_depth, KNN\n",
    "\n",
    "scoring: A string, callable, list, tuple or dictionary that defines how the performance of the model will be evaluated during cross-validation. If a single score is used, it can be a string representing a scoring metric or a callable that returns a single value. If multiple scores are used, it can be a list/tuple of strings representing different scoring metrics, a callable returning a dictionary of metric scores, or a dictionary with metric names as keys and callables as values.\n",
    "ex. accuracy, roc_auc\n",
    "\n",
    "n_jobs: An integer specifying the number of parallel jobs to run during grid search. By default, it is set to None (1 job), but it can also be set to -1 (use all available processors).\n",
    "\n",
    "refit: A boolean, string or callable indicating whether to refit an estimator using the best-found parameters on the whole dataset after grid search is complete. If set to True, the estimator will be refitted with the best parameters and made available at the best_estimator_ attribute.\n",
    "\n",
    "cv: The cross-validation strategy to use during grid search. It can be an integer specifying the number of folds in a (Stratified) KFold, a cross-validation splitter object, or an iterable yielding (train, test) splits as arrays of indices.\n",
    "\n",
    "verbose: An integer controlling the verbosity level during grid search. Higher values enable more detailed messages about computation time, scores, and parameter indexes.\n",
    "\n",
    "pre_dispatch: An integer or string controlling the number of jobs that get dispatched during parallel execution. Reducing this number can be useful to avoid memory consumption issues. It can be set to an exact number of total jobs, a formula expression as a function of n_jobs, or None (immediate creation and spawning of all jobs).\n",
    "\n",
    "error_score: A string or numeric value specifying how to handle errors that occur during estimator fitting. If set to ‘raise’, the error is raised. If a numeric value is given, a warning is raised but the grid search will proceed.\n",
    "\n",
    "return_train_score: A boolean indicating whether to include training scores in the cv_results_ attribute. Computing training scores can provide insights on overfitting/underfitting trade-off, but it can be computationally expensive and is not necessary for parameter selection.\n"
   ]
  },
  {
   "cell_type": "code",
   "execution_count": 90,
   "id": "a998cc36",
   "metadata": {},
   "outputs": [],
   "source": [
    "# train model using Grid Search with cross-validation\n",
    "# the goal is to identify the best hyper-parameters of the model \n",
    "from sklearn.model_selection import GridSearchCV\n",
    "tree = DecisionTreeClassifier(criterion = 'gini', class_weight = 'balanced', random_state = 0)\n",
    "grid = GridSearchCV(tree,\n",
    "                    param_grid={\"max_depth\":range(2,11)},\n",
    "scoring = \"accuracy\",\n",
    "cv = 5, return_train_score = True\n",
    "                   )\n",
    "grid.fit(X_train, y_train)\n",
    "# obtain grid results\n",
    "scores = pd.DataFrame(grid.cv_results_)"
   ]
  },
  {
   "cell_type": "code",
   "execution_count": 91,
   "id": "689329a7",
   "metadata": {},
   "outputs": [
    {
     "data": {
      "text/html": [
       "<div>\n",
       "<style scoped>\n",
       "    .dataframe tbody tr th:only-of-type {\n",
       "        vertical-align: middle;\n",
       "    }\n",
       "\n",
       "    .dataframe tbody tr th {\n",
       "        vertical-align: top;\n",
       "    }\n",
       "\n",
       "    .dataframe thead th {\n",
       "        text-align: right;\n",
       "    }\n",
       "</style>\n",
       "<table border=\"1\" class=\"dataframe\">\n",
       "  <thead>\n",
       "    <tr style=\"text-align: right;\">\n",
       "      <th></th>\n",
       "      <th>mean_fit_time</th>\n",
       "      <th>std_fit_time</th>\n",
       "      <th>mean_score_time</th>\n",
       "      <th>std_score_time</th>\n",
       "      <th>param_max_depth</th>\n",
       "      <th>params</th>\n",
       "      <th>split0_test_score</th>\n",
       "      <th>split1_test_score</th>\n",
       "      <th>split2_test_score</th>\n",
       "      <th>split3_test_score</th>\n",
       "      <th>...</th>\n",
       "      <th>mean_test_score</th>\n",
       "      <th>std_test_score</th>\n",
       "      <th>rank_test_score</th>\n",
       "      <th>split0_train_score</th>\n",
       "      <th>split1_train_score</th>\n",
       "      <th>split2_train_score</th>\n",
       "      <th>split3_train_score</th>\n",
       "      <th>split4_train_score</th>\n",
       "      <th>mean_train_score</th>\n",
       "      <th>std_train_score</th>\n",
       "    </tr>\n",
       "  </thead>\n",
       "  <tbody>\n",
       "    <tr>\n",
       "      <th>0</th>\n",
       "      <td>0.002007</td>\n",
       "      <td>0.000335</td>\n",
       "      <td>0.000228</td>\n",
       "      <td>4.997394e-05</td>\n",
       "      <td>2</td>\n",
       "      <td>{'max_depth': 2}</td>\n",
       "      <td>0.772727</td>\n",
       "      <td>0.744186</td>\n",
       "      <td>0.674419</td>\n",
       "      <td>0.627907</td>\n",
       "      <td>...</td>\n",
       "      <td>0.698732</td>\n",
       "      <td>0.052421</td>\n",
       "      <td>9</td>\n",
       "      <td>0.837209</td>\n",
       "      <td>0.826590</td>\n",
       "      <td>0.855491</td>\n",
       "      <td>0.786127</td>\n",
       "      <td>0.809249</td>\n",
       "      <td>0.822933</td>\n",
       "      <td>0.023745</td>\n",
       "    </tr>\n",
       "    <tr>\n",
       "      <th>1</th>\n",
       "      <td>0.001932</td>\n",
       "      <td>0.000128</td>\n",
       "      <td>0.000144</td>\n",
       "      <td>1.252857e-05</td>\n",
       "      <td>3</td>\n",
       "      <td>{'max_depth': 3}</td>\n",
       "      <td>0.840909</td>\n",
       "      <td>0.767442</td>\n",
       "      <td>0.720930</td>\n",
       "      <td>0.744186</td>\n",
       "      <td>...</td>\n",
       "      <td>0.763531</td>\n",
       "      <td>0.041391</td>\n",
       "      <td>6</td>\n",
       "      <td>0.877907</td>\n",
       "      <td>0.895954</td>\n",
       "      <td>0.890173</td>\n",
       "      <td>0.890173</td>\n",
       "      <td>0.890173</td>\n",
       "      <td>0.888876</td>\n",
       "      <td>0.005924</td>\n",
       "    </tr>\n",
       "    <tr>\n",
       "      <th>2</th>\n",
       "      <td>0.002066</td>\n",
       "      <td>0.000059</td>\n",
       "      <td>0.000129</td>\n",
       "      <td>4.708390e-06</td>\n",
       "      <td>4</td>\n",
       "      <td>{'max_depth': 4}</td>\n",
       "      <td>0.818182</td>\n",
       "      <td>0.790698</td>\n",
       "      <td>0.627907</td>\n",
       "      <td>0.720930</td>\n",
       "      <td>...</td>\n",
       "      <td>0.749683</td>\n",
       "      <td>0.068866</td>\n",
       "      <td>8</td>\n",
       "      <td>0.906977</td>\n",
       "      <td>0.936416</td>\n",
       "      <td>0.924855</td>\n",
       "      <td>0.924855</td>\n",
       "      <td>0.965318</td>\n",
       "      <td>0.931684</td>\n",
       "      <td>0.019274</td>\n",
       "    </tr>\n",
       "    <tr>\n",
       "      <th>3</th>\n",
       "      <td>0.002281</td>\n",
       "      <td>0.000156</td>\n",
       "      <td>0.000130</td>\n",
       "      <td>9.702201e-07</td>\n",
       "      <td>5</td>\n",
       "      <td>{'max_depth': 5}</td>\n",
       "      <td>0.818182</td>\n",
       "      <td>0.697674</td>\n",
       "      <td>0.651163</td>\n",
       "      <td>0.860465</td>\n",
       "      <td>...</td>\n",
       "      <td>0.763636</td>\n",
       "      <td>0.077569</td>\n",
       "      <td>5</td>\n",
       "      <td>0.906977</td>\n",
       "      <td>0.953757</td>\n",
       "      <td>0.930636</td>\n",
       "      <td>0.971098</td>\n",
       "      <td>0.994220</td>\n",
       "      <td>0.951338</td>\n",
       "      <td>0.030436</td>\n",
       "    </tr>\n",
       "    <tr>\n",
       "      <th>4</th>\n",
       "      <td>0.002539</td>\n",
       "      <td>0.000328</td>\n",
       "      <td>0.000155</td>\n",
       "      <td>4.188666e-05</td>\n",
       "      <td>6</td>\n",
       "      <td>{'max_depth': 6}</td>\n",
       "      <td>0.750000</td>\n",
       "      <td>0.767442</td>\n",
       "      <td>0.627907</td>\n",
       "      <td>0.837209</td>\n",
       "      <td>...</td>\n",
       "      <td>0.754651</td>\n",
       "      <td>0.069806</td>\n",
       "      <td>7</td>\n",
       "      <td>0.936047</td>\n",
       "      <td>0.965318</td>\n",
       "      <td>0.953757</td>\n",
       "      <td>0.988439</td>\n",
       "      <td>1.000000</td>\n",
       "      <td>0.968712</td>\n",
       "      <td>0.023110</td>\n",
       "    </tr>\n",
       "    <tr>\n",
       "      <th>5</th>\n",
       "      <td>0.002550</td>\n",
       "      <td>0.000294</td>\n",
       "      <td>0.000143</td>\n",
       "      <td>2.535249e-05</td>\n",
       "      <td>7</td>\n",
       "      <td>{'max_depth': 7}</td>\n",
       "      <td>0.840909</td>\n",
       "      <td>0.674419</td>\n",
       "      <td>0.697674</td>\n",
       "      <td>0.837209</td>\n",
       "      <td>...</td>\n",
       "      <td>0.768182</td>\n",
       "      <td>0.069748</td>\n",
       "      <td>4</td>\n",
       "      <td>0.976744</td>\n",
       "      <td>0.971098</td>\n",
       "      <td>0.982659</td>\n",
       "      <td>0.988439</td>\n",
       "      <td>1.000000</td>\n",
       "      <td>0.983788</td>\n",
       "      <td>0.009964</td>\n",
       "    </tr>\n",
       "    <tr>\n",
       "      <th>6</th>\n",
       "      <td>0.002754</td>\n",
       "      <td>0.000333</td>\n",
       "      <td>0.000158</td>\n",
       "      <td>2.946892e-05</td>\n",
       "      <td>8</td>\n",
       "      <td>{'max_depth': 8}</td>\n",
       "      <td>0.818182</td>\n",
       "      <td>0.767442</td>\n",
       "      <td>0.697674</td>\n",
       "      <td>0.837209</td>\n",
       "      <td>...</td>\n",
       "      <td>0.782241</td>\n",
       "      <td>0.048488</td>\n",
       "      <td>3</td>\n",
       "      <td>0.994186</td>\n",
       "      <td>1.000000</td>\n",
       "      <td>1.000000</td>\n",
       "      <td>1.000000</td>\n",
       "      <td>1.000000</td>\n",
       "      <td>0.998837</td>\n",
       "      <td>0.002326</td>\n",
       "    </tr>\n",
       "    <tr>\n",
       "      <th>7</th>\n",
       "      <td>0.002729</td>\n",
       "      <td>0.000379</td>\n",
       "      <td>0.000152</td>\n",
       "      <td>2.504162e-05</td>\n",
       "      <td>9</td>\n",
       "      <td>{'max_depth': 9}</td>\n",
       "      <td>0.795455</td>\n",
       "      <td>0.790698</td>\n",
       "      <td>0.697674</td>\n",
       "      <td>0.837209</td>\n",
       "      <td>...</td>\n",
       "      <td>0.782347</td>\n",
       "      <td>0.045805</td>\n",
       "      <td>1</td>\n",
       "      <td>1.000000</td>\n",
       "      <td>1.000000</td>\n",
       "      <td>1.000000</td>\n",
       "      <td>1.000000</td>\n",
       "      <td>1.000000</td>\n",
       "      <td>1.000000</td>\n",
       "      <td>0.000000</td>\n",
       "    </tr>\n",
       "    <tr>\n",
       "      <th>8</th>\n",
       "      <td>0.002633</td>\n",
       "      <td>0.000336</td>\n",
       "      <td>0.000136</td>\n",
       "      <td>4.128430e-06</td>\n",
       "      <td>10</td>\n",
       "      <td>{'max_depth': 10}</td>\n",
       "      <td>0.795455</td>\n",
       "      <td>0.790698</td>\n",
       "      <td>0.697674</td>\n",
       "      <td>0.837209</td>\n",
       "      <td>...</td>\n",
       "      <td>0.782347</td>\n",
       "      <td>0.045805</td>\n",
       "      <td>1</td>\n",
       "      <td>1.000000</td>\n",
       "      <td>1.000000</td>\n",
       "      <td>1.000000</td>\n",
       "      <td>1.000000</td>\n",
       "      <td>1.000000</td>\n",
       "      <td>1.000000</td>\n",
       "      <td>0.000000</td>\n",
       "    </tr>\n",
       "  </tbody>\n",
       "</table>\n",
       "<p>9 rows × 21 columns</p>\n",
       "</div>"
      ],
      "text/plain": [
       "   mean_fit_time  std_fit_time  mean_score_time  std_score_time  \\\n",
       "0       0.002007      0.000335         0.000228    4.997394e-05   \n",
       "1       0.001932      0.000128         0.000144    1.252857e-05   \n",
       "2       0.002066      0.000059         0.000129    4.708390e-06   \n",
       "3       0.002281      0.000156         0.000130    9.702201e-07   \n",
       "4       0.002539      0.000328         0.000155    4.188666e-05   \n",
       "5       0.002550      0.000294         0.000143    2.535249e-05   \n",
       "6       0.002754      0.000333         0.000158    2.946892e-05   \n",
       "7       0.002729      0.000379         0.000152    2.504162e-05   \n",
       "8       0.002633      0.000336         0.000136    4.128430e-06   \n",
       "\n",
       "  param_max_depth             params  split0_test_score  split1_test_score  \\\n",
       "0               2   {'max_depth': 2}           0.772727           0.744186   \n",
       "1               3   {'max_depth': 3}           0.840909           0.767442   \n",
       "2               4   {'max_depth': 4}           0.818182           0.790698   \n",
       "3               5   {'max_depth': 5}           0.818182           0.697674   \n",
       "4               6   {'max_depth': 6}           0.750000           0.767442   \n",
       "5               7   {'max_depth': 7}           0.840909           0.674419   \n",
       "6               8   {'max_depth': 8}           0.818182           0.767442   \n",
       "7               9   {'max_depth': 9}           0.795455           0.790698   \n",
       "8              10  {'max_depth': 10}           0.795455           0.790698   \n",
       "\n",
       "   split2_test_score  split3_test_score  ...  mean_test_score  std_test_score  \\\n",
       "0           0.674419           0.627907  ...         0.698732        0.052421   \n",
       "1           0.720930           0.744186  ...         0.763531        0.041391   \n",
       "2           0.627907           0.720930  ...         0.749683        0.068866   \n",
       "3           0.651163           0.860465  ...         0.763636        0.077569   \n",
       "4           0.627907           0.837209  ...         0.754651        0.069806   \n",
       "5           0.697674           0.837209  ...         0.768182        0.069748   \n",
       "6           0.697674           0.837209  ...         0.782241        0.048488   \n",
       "7           0.697674           0.837209  ...         0.782347        0.045805   \n",
       "8           0.697674           0.837209  ...         0.782347        0.045805   \n",
       "\n",
       "   rank_test_score  split0_train_score  split1_train_score  \\\n",
       "0                9            0.837209            0.826590   \n",
       "1                6            0.877907            0.895954   \n",
       "2                8            0.906977            0.936416   \n",
       "3                5            0.906977            0.953757   \n",
       "4                7            0.936047            0.965318   \n",
       "5                4            0.976744            0.971098   \n",
       "6                3            0.994186            1.000000   \n",
       "7                1            1.000000            1.000000   \n",
       "8                1            1.000000            1.000000   \n",
       "\n",
       "   split2_train_score  split3_train_score  split4_train_score  \\\n",
       "0            0.855491            0.786127            0.809249   \n",
       "1            0.890173            0.890173            0.890173   \n",
       "2            0.924855            0.924855            0.965318   \n",
       "3            0.930636            0.971098            0.994220   \n",
       "4            0.953757            0.988439            1.000000   \n",
       "5            0.982659            0.988439            1.000000   \n",
       "6            1.000000            1.000000            1.000000   \n",
       "7            1.000000            1.000000            1.000000   \n",
       "8            1.000000            1.000000            1.000000   \n",
       "\n",
       "   mean_train_score  std_train_score  \n",
       "0          0.822933         0.023745  \n",
       "1          0.888876         0.005924  \n",
       "2          0.931684         0.019274  \n",
       "3          0.951338         0.030436  \n",
       "4          0.968712         0.023110  \n",
       "5          0.983788         0.009964  \n",
       "6          0.998837         0.002326  \n",
       "7          1.000000         0.000000  \n",
       "8          1.000000         0.000000  \n",
       "\n",
       "[9 rows x 21 columns]"
      ]
     },
     "execution_count": 91,
     "metadata": {},
     "output_type": "execute_result"
    }
   ],
   "source": [
    "scores"
   ]
  },
  {
   "cell_type": "code",
   "execution_count": 92,
   "id": "fce88417",
   "metadata": {},
   "outputs": [
    {
     "name": "stderr",
     "output_type": "stream",
     "text": [
      "/opt/anaconda3/lib/python3.9/site-packages/pandas/core/indexes/base.py:6999: FutureWarning: In a future version, the Index constructor will not infer numeric dtypes when passed object-dtype sequences (matching Series behavior)\n",
      "  return Index(sequences[0], name=names)\n"
     ]
    },
    {
     "data": {
      "image/png": "[encoded data removed]",
      "text/plain": [
       "<Figure size 640x480 with 1 Axes>"
      ]
     },
     "metadata": {},
     "output_type": "display_data"
    }
   ],
   "source": [
    "# visulization of grid search\n",
    "scores.plot(x = \"param_max_depth\",y = \"mean_train_score\",yerr = \"std_train_score\") \n",
    "scores.plot(x = \"param_max_depth\",y = \"mean_test_score\",yerr = \"std_test_score\",ax = plt.gca()) \n",
    "# ax = plt.gca() , keep plot at the same axis\n",
    "plt.legend()\n",
    "plt.show()"
   ]
  },
  {
   "cell_type": "code",
   "execution_count": 93,
   "id": "e558be84",
   "metadata": {},
   "outputs": [
    {
     "data": {
      "text/plain": [
       "DecisionTreeClassifier(class_weight='balanced', max_depth=9, random_state=0)"
      ]
     },
     "execution_count": 93,
     "metadata": {},
     "output_type": "execute_result"
    }
   ],
   "source": [
    "grid.best_estimator_"
   ]
  },
  {
   "cell_type": "code",
   "execution_count": 94,
   "id": "7e9f02d2",
   "metadata": {},
   "outputs": [
    {
     "name": "stdout",
     "output_type": "stream",
     "text": [
      "              precision    recall  f1-score   support\n",
      "\n",
      "           0       0.77      0.91      0.83        11\n",
      "           1       0.91      0.77      0.83        13\n",
      "\n",
      "    accuracy                           0.83        24\n",
      "   macro avg       0.84      0.84      0.83        24\n",
      "weighted avg       0.84      0.83      0.83        24\n",
      "\n"
     ]
    }
   ],
   "source": [
    "# use the best model to predict\n",
    "y_pred_grid = grid.best_estimator_.predict(X_test)\n",
    "print(classification_report(y_test, y_pred_grid))\n",
    "# generate PDF file in your program folder\n",
    "# The dot_data variable typically contains the graph description in the DOT language, which is a plain text graph description language. \n",
    "# It's commonly used in Graphviz, a popular graph visualization software."
   ]
  },
  {
   "cell_type": "code",
   "execution_count": 95,
   "id": "05a6a639",
   "metadata": {},
   "outputs": [
    {
     "data": {
      "text/plain": [
       "'decision_tree_best_model_1.pdf'"
      ]
     },
     "execution_count": 95,
     "metadata": {},
     "output_type": "execute_result"
    }
   ],
   "source": [
    "# visualization decision tree (best model)\n",
    "import graphviz \n",
    "dot_data = export_graphviz(grid.best_estimator_,\n",
    "out_file = None,                \n",
    "            feature_names = feature_used, \n",
    "                           filled = True,\n",
    "rounded = True,\n",
    "                           special_characters = True)\n",
    "graph = graphviz.Source(dot_data)\n",
    "graph.render(\"decision_tree_best_model_1\",cleanup = True) "
   ]
  },
  {
   "cell_type": "code",
   "execution_count": 96,
   "id": "7657c181",
   "metadata": {},
   "outputs": [
    {
     "name": "stderr",
     "output_type": "stream",
     "text": [
      "/opt/anaconda3/lib/python3.9/site-packages/sklearn/utils/deprecation.py:87: FutureWarning: Function plot_confusion_matrix is deprecated; Function `plot_confusion_matrix` is deprecated in 1.0 and will be removed in 1.2. Use one of the class methods: ConfusionMatrixDisplay.from_predictions or ConfusionMatrixDisplay.from_estimator.\n",
      "  warnings.warn(msg, category=FutureWarning)\n"
     ]
    },
    {
     "data": {
      "text/plain": [
       "<sklearn.metrics._plot.confusion_matrix.ConfusionMatrixDisplay at 0x7fe6718e5580>"
      ]
     },
     "execution_count": 96,
     "metadata": {},
     "output_type": "execute_result"
    },
    {
     "data": {
      "image/png": "[encoded data removed]",
      "text/plain": [
       "<Figure size 640x480 with 2 Axes>"
      ]
     },
     "metadata": {},
     "output_type": "display_data"
    }
   ],
   "source": [
    "from sklearn.metrics import plot_confusion_matrix\n",
    "import matplotlib.pyplot as plt\n",
    "plot_confusion_matrix(grid.fit(X_train, y_train), X_test, y_test, display_labels=[\"Does not have PK\", \"Has PK\"])"
   ]
  },
  {
   "cell_type": "code",
   "execution_count": 97,
   "id": "82ebfbfb",
   "metadata": {},
   "outputs": [
    {
     "data": {
      "image/png": "[encoded data removed]",
      "text/plain": [
       "<Figure size 1000x800 with 1 Axes>"
      ]
     },
     "metadata": {},
     "output_type": "display_data"
    }
   ],
   "source": [
    "# feature importance\n",
    "importances = grid.best_estimator_.feature_importances_ \n",
    "\n",
    "indices = np.argsort(importances)[::-1]\n",
    "\n",
    "plt.figure(figsize=(10, 8))\n",
    "\n",
    "plt.ylabel(\"Feature importances\")\n",
    "\n",
    "plt.bar(range(len(feature_used)), importances[indices], align=\"center\") \n",
    "\n",
    "plt.xticks(range(len(feature_used)), feature_used, rotation=90)\n",
    "\n",
    "plt.show()"
   ]
  },
  {
   "cell_type": "markdown",
   "id": "76b9f8f1",
   "metadata": {},
   "source": [
    "# ILPD.csv file\n",
    "-  provides the age, gender, total Bilirubin, direct Bilirubin, total proteins, albumin, A/G ratio, SGPT, SGOT and Alkphos of patients. \n",
    "## Train a KNN classifier and a Logistic Regression classifier to predict class label of the patient. "
   ]
  },
  {
   "cell_type": "markdown",
   "id": "def35522",
   "metadata": {},
   "source": [
    "# a. KNN classifier"
   ]
  },
  {
   "cell_type": "code",
   "execution_count": 99,
   "id": "4b82fb19",
   "metadata": {},
   "outputs": [],
   "source": [
    "# load data set into DataFrame\n",
    "import pandas as pd\n",
    "import numpy as np\n",
    "data = pd.read_csv('/Users/Shared/Files From d.localized/Spring2023/AI/programming assignment 1/ILPD.csv', header = 0)"
   ]
  },
  {
   "cell_type": "code",
   "execution_count": 100,
   "id": "915652c2",
   "metadata": {},
   "outputs": [
    {
     "name": "stdout",
     "output_type": "stream",
     "text": [
      "Number of cases:  167\n",
      "Number of controls :  416\n",
      "Proportion of case: 28.64%\n"
     ]
    }
   ],
   "source": [
    "# To explore the number of cases (death) and controls (alive finally)\n",
    "n_case = len(data[data['Class'] == 2]) \n",
    "n_control = len(data[data['Class'] == 1])\n",
    "print('Number of cases: ', n_case)\n",
    "print('Number of controls : ', n_control)\n",
    "\n",
    "print('Proportion of case: %.2f%%' % (100 * n_case / (n_control + n_case)))"
   ]
  },
  {
   "cell_type": "code",
   "execution_count": 101,
   "id": "8f343465",
   "metadata": {},
   "outputs": [
    {
     "data": {
      "text/plain": [
       "Text(0, 0.5, 'number of subjects')"
      ]
     },
     "execution_count": 101,
     "metadata": {},
     "output_type": "execute_result"
    },
    {
     "data": {
      "image/png": "[encoded data removed]",
      "text/plain": [
       "<Figure size 640x480 with 1 Axes>"
      ]
     },
     "metadata": {},
     "output_type": "display_data"
    }
   ],
   "source": [
    "# visualize case-control distribution\n",
    "import matplotlib.pyplot as plt\n",
    "plt.bar(['Cases (Class=2)','Controls (Class=1)'], [n_case, n_control])\n",
    "plt.ylabel('number of subjects')"
   ]
  },
  {
   "cell_type": "code",
   "execution_count": 102,
   "id": "cd58f5fa",
   "metadata": {},
   "outputs": [
    {
     "name": "stdout",
     "output_type": "stream",
     "text": [
      "Age                 0.000000\n",
      "Gender              0.000000\n",
      "total Bilirubin     0.000000\n",
      "direct Bilirubin    0.000000\n",
      "total proteins      0.001715\n",
      "albumin             0.005146\n",
      "A/G ratio           0.000000\n",
      "SGPT                0.000000\n",
      "SGOT                0.000000\n",
      "Alkphos             0.006861\n",
      "Class               0.000000\n",
      "dtype: float64\n"
     ]
    }
   ],
   "source": [
    "print(data.isnull().sum() / len(data))"
   ]
  },
  {
   "cell_type": "code",
   "execution_count": 103,
   "id": "1c8ae2d8",
   "metadata": {},
   "outputs": [
    {
     "data": {
      "text/html": [
       "<div>\n",
       "<style scoped>\n",
       "    .dataframe tbody tr th:only-of-type {\n",
       "        vertical-align: middle;\n",
       "    }\n",
       "\n",
       "    .dataframe tbody tr th {\n",
       "        vertical-align: top;\n",
       "    }\n",
       "\n",
       "    .dataframe thead th {\n",
       "        text-align: right;\n",
       "    }\n",
       "</style>\n",
       "<table border=\"1\" class=\"dataframe\">\n",
       "  <thead>\n",
       "    <tr style=\"text-align: right;\">\n",
       "      <th></th>\n",
       "      <th>Age</th>\n",
       "      <th>total Bilirubin</th>\n",
       "      <th>direct Bilirubin</th>\n",
       "      <th>total proteins</th>\n",
       "      <th>albumin</th>\n",
       "      <th>A/G ratio</th>\n",
       "      <th>SGPT</th>\n",
       "      <th>SGOT</th>\n",
       "      <th>Alkphos</th>\n",
       "    </tr>\n",
       "  </thead>\n",
       "  <tbody>\n",
       "    <tr>\n",
       "      <th>count</th>\n",
       "      <td>583.000000</td>\n",
       "      <td>583.000000</td>\n",
       "      <td>583.000000</td>\n",
       "      <td>582.000000</td>\n",
       "      <td>580.000000</td>\n",
       "      <td>583.000000</td>\n",
       "      <td>583.000000</td>\n",
       "      <td>583.000000</td>\n",
       "      <td>579.000000</td>\n",
       "    </tr>\n",
       "    <tr>\n",
       "      <th>mean</th>\n",
       "      <td>44.746141</td>\n",
       "      <td>3.298799</td>\n",
       "      <td>1.486106</td>\n",
       "      <td>290.422680</td>\n",
       "      <td>80.898276</td>\n",
       "      <td>109.910806</td>\n",
       "      <td>6.483190</td>\n",
       "      <td>3.141852</td>\n",
       "      <td>0.947064</td>\n",
       "    </tr>\n",
       "    <tr>\n",
       "      <th>std</th>\n",
       "      <td>16.189833</td>\n",
       "      <td>6.209522</td>\n",
       "      <td>2.808498</td>\n",
       "      <td>243.118615</td>\n",
       "      <td>183.063760</td>\n",
       "      <td>288.918529</td>\n",
       "      <td>1.085451</td>\n",
       "      <td>0.795519</td>\n",
       "      <td>0.319592</td>\n",
       "    </tr>\n",
       "    <tr>\n",
       "      <th>min</th>\n",
       "      <td>4.000000</td>\n",
       "      <td>0.400000</td>\n",
       "      <td>0.100000</td>\n",
       "      <td>63.000000</td>\n",
       "      <td>10.000000</td>\n",
       "      <td>10.000000</td>\n",
       "      <td>2.700000</td>\n",
       "      <td>0.900000</td>\n",
       "      <td>0.300000</td>\n",
       "    </tr>\n",
       "    <tr>\n",
       "      <th>25%</th>\n",
       "      <td>33.000000</td>\n",
       "      <td>0.800000</td>\n",
       "      <td>0.200000</td>\n",
       "      <td>175.250000</td>\n",
       "      <td>23.000000</td>\n",
       "      <td>25.000000</td>\n",
       "      <td>5.800000</td>\n",
       "      <td>2.600000</td>\n",
       "      <td>0.700000</td>\n",
       "    </tr>\n",
       "    <tr>\n",
       "      <th>50%</th>\n",
       "      <td>45.000000</td>\n",
       "      <td>1.000000</td>\n",
       "      <td>0.300000</td>\n",
       "      <td>208.000000</td>\n",
       "      <td>35.000000</td>\n",
       "      <td>42.000000</td>\n",
       "      <td>6.600000</td>\n",
       "      <td>3.100000</td>\n",
       "      <td>0.930000</td>\n",
       "    </tr>\n",
       "    <tr>\n",
       "      <th>75%</th>\n",
       "      <td>58.000000</td>\n",
       "      <td>2.600000</td>\n",
       "      <td>1.300000</td>\n",
       "      <td>298.000000</td>\n",
       "      <td>60.250000</td>\n",
       "      <td>87.000000</td>\n",
       "      <td>7.200000</td>\n",
       "      <td>3.800000</td>\n",
       "      <td>1.100000</td>\n",
       "    </tr>\n",
       "    <tr>\n",
       "      <th>max</th>\n",
       "      <td>90.000000</td>\n",
       "      <td>75.000000</td>\n",
       "      <td>19.700000</td>\n",
       "      <td>2110.000000</td>\n",
       "      <td>2000.000000</td>\n",
       "      <td>4929.000000</td>\n",
       "      <td>9.600000</td>\n",
       "      <td>5.500000</td>\n",
       "      <td>2.800000</td>\n",
       "    </tr>\n",
       "  </tbody>\n",
       "</table>\n",
       "</div>"
      ],
      "text/plain": [
       "              Age  total Bilirubin  direct Bilirubin  total proteins  \\\n",
       "count  583.000000       583.000000        583.000000      582.000000   \n",
       "mean    44.746141         3.298799          1.486106      290.422680   \n",
       "std     16.189833         6.209522          2.808498      243.118615   \n",
       "min      4.000000         0.400000          0.100000       63.000000   \n",
       "25%     33.000000         0.800000          0.200000      175.250000   \n",
       "50%     45.000000         1.000000          0.300000      208.000000   \n",
       "75%     58.000000         2.600000          1.300000      298.000000   \n",
       "max     90.000000        75.000000         19.700000     2110.000000   \n",
       "\n",
       "           albumin    A/G ratio        SGPT        SGOT     Alkphos  \n",
       "count   580.000000   583.000000  583.000000  583.000000  579.000000  \n",
       "mean     80.898276   109.910806    6.483190    3.141852    0.947064  \n",
       "std     183.063760   288.918529    1.085451    0.795519    0.319592  \n",
       "min      10.000000    10.000000    2.700000    0.900000    0.300000  \n",
       "25%      23.000000    25.000000    5.800000    2.600000    0.700000  \n",
       "50%      35.000000    42.000000    6.600000    3.100000    0.930000  \n",
       "75%      60.250000    87.000000    7.200000    3.800000    1.100000  \n",
       "max    2000.000000  4929.000000    9.600000    5.500000    2.800000  "
      ]
     },
     "execution_count": 103,
     "metadata": {},
     "output_type": "execute_result"
    }
   ],
   "source": [
    "data.loc[data['Gender'] == 'Male', 'Gender'] = 1\n",
    "data.loc[data['Gender'] == 'Female', 'Gender'] = 0\n",
    "data.drop(columns = ['Class']).describe()"
   ]
  },
  {
   "cell_type": "code",
   "execution_count": 104,
   "id": "0e0cfb4d",
   "metadata": {},
   "outputs": [
    {
     "name": "stdout",
     "output_type": "stream",
     "text": [
      "(437, 10) (146, 10) (437,) (146,)\n"
     ]
    }
   ],
   "source": [
    "from sklearn.model_selection import train_test_split\n",
    "y = data['Class'].values\n",
    "X = data.drop(columns = ['Class']).values\n",
    "feature_used = data.drop(columns = ['Class']).columns.tolist()\n",
    "X_train, X_test, y_train, y_test = train_test_split(X, y,\n",
    "test_size=0.25, random_state=0)\n",
    "print(X_train.shape, X_test.shape, y_train.shape, y_test.shape)"
   ]
  },
  {
   "cell_type": "code",
   "execution_count": 105,
   "id": "e052a786",
   "metadata": {},
   "outputs": [],
   "source": [
    "# impute the missing values\n",
    "from sklearn.impute import SimpleImputer\n",
    "imputer = SimpleImputer(missing_values=np.nan, strategy='mean')\n",
    "imputer.fit(X_train)\n",
    "X_train = np.array(imputer.transform(X_train), dtype=np.float32) \n",
    "X_test = np.array(imputer.transform(X_test), dtype=np.float32)"
   ]
  },
  {
   "cell_type": "markdown",
   "id": "ad524250",
   "metadata": {},
   "source": [
    "Note\n",
    "\n",
    "For the non-tree-based machine learning models, such as KNN, logistic regression, and linear regression, data scaling is usually requried to eliminate the effects of magnitude."
   ]
  },
  {
   "cell_type": "code",
   "execution_count": 106,
   "id": "c1d815eb",
   "metadata": {},
   "outputs": [],
   "source": [
    " # Data scaling\n",
    "from sklearn.preprocessing import StandardScaler \n",
    "scaler = StandardScaler() # z-score based scaling"
   ]
  },
  {
   "cell_type": "code",
   "execution_count": 107,
   "id": "096df47d",
   "metadata": {},
   "outputs": [],
   "source": [
    "scaler.fit(X_train)\n",
    "X_train_scaled = scaler.transform(X_train) \n",
    "X_test_scaled = scaler.transform(X_test)"
   ]
  },
  {
   "cell_type": "code",
   "execution_count": 108,
   "id": "33d89b96",
   "metadata": {},
   "outputs": [
    {
     "data": {
      "text/plain": [
       "array([[-2.2724998 , -1.6832508 , -0.36378908, ...,  0.9000858 ,\n",
       "         0.30893022, -0.47380003],\n",
       "       [ 1.0783157 ,  0.5940885 , -0.39459834, ...,  1.5271325 ,\n",
       "         0.06235034, -1.0922339 ],\n",
       "       [ 1.2644721 , -1.6832508 , -0.39459834, ...,  0.2730392 ,\n",
       "        -0.30751935, -0.78301704],\n",
       "       ...,\n",
       "       [ 1.5126806 , -1.6832508 , -0.3791937 , ...,  1.7062886 ,\n",
       "         2.158279  ,  1.3815012 ],\n",
       "       [ 0.95421135,  0.5940885 , -0.1481242 , ...,  0.09388269,\n",
       "         0.43222004,  0.4538507 ],\n",
       "       [-1.1555613 ,  0.5940885 ,  6.0907526 , ...,  0.9000858 ,\n",
       "        -0.6773893 , -1.4014509 ]], dtype=float32)"
      ]
     },
     "execution_count": 108,
     "metadata": {},
     "output_type": "execute_result"
    }
   ],
   "source": [
    "X_train_scaled"
   ]
  },
  {
   "cell_type": "markdown",
   "id": "d51363f3",
   "metadata": {},
   "source": [
    "The k-nearest neighbors (KNN) algorithm is a non-parametric, supervised learning classifier, which uses proximity to make classifications or predictions about the grouping of an individual data point."
   ]
  },
  {
   "cell_type": "code",
   "execution_count": 110,
   "id": "810ba5f4",
   "metadata": {},
   "outputs": [],
   "source": [
    "# Train KNN classifier with Grid Search\n",
    "from sklearn.neighbors import KNeighborsClassifier \n",
    "from sklearn.model_selection import GridSearchCV \n",
    "knn =KNeighborsClassifier()"
   ]
  },
  {
   "cell_type": "code",
   "execution_count": 111,
   "id": "63a0ed84",
   "metadata": {},
   "outputs": [
    {
     "data": {
      "text/plain": [
       "GridSearchCV(cv=5, estimator=KNeighborsClassifier(),\n",
       "             param_grid={'n_neighbors': [5, 10, 15, 20, 25, 30, 35, 40]},\n",
       "             return_train_score=True, scoring='roc_auc')"
      ]
     },
     "execution_count": 111,
     "metadata": {},
     "output_type": "execute_result"
    }
   ],
   "source": [
    "grid = GridSearchCV(knn,\n",
    "param_grid={'n_neighbors':[5, 10, 15, 20, 25, 30, 35, 40]},\n",
    "scoring='roc_auc', \n",
    "                    cv=5, \n",
    "                    return_train_score=True)\n",
    "grid.fit(X_train_scaled, y_train)"
   ]
  },
  {
   "cell_type": "code",
   "execution_count": 817,
   "id": "8c3d8b03",
   "metadata": {},
   "outputs": [
    {
     "name": "stderr",
     "output_type": "stream",
     "text": [
      "/opt/anaconda3/lib/python3.9/site-packages/pandas/core/indexes/base.py:6999: FutureWarning: In a future version, the Index constructor will not infer numeric dtypes when passed object-dtype sequences (matching Series behavior)\n",
      "  return Index(sequences[0], name=names)\n"
     ]
    },
    {
     "data": {
      "image/png": "[encoded data removed]",
      "text/plain": [
       "<Figure size 640x480 with 1 Axes>"
      ]
     },
     "metadata": {},
     "output_type": "display_data"
    }
   ],
   "source": [
    "# To visualize tuning process\n",
    "scores = pd.DataFrame(grid.cv_results_) \n",
    "scores.plot(x='param_n_neighbors', y='mean_test_score',\n",
    "yerr='std_test_score', ax=plt.gca()) \n",
    "plt.legend()\n",
    "plt.show()"
   ]
  },
  {
   "cell_type": "markdown",
   "id": "ffa87fb5",
   "metadata": {},
   "source": [
    "By examining the relationship between param_n_neighbors and mean_test_score, you can identify the value of param_n_neighbors that leads to the best performance of the KNN model on the validation set. Typically, you would choose the value of param_n_neighbors that corresponds to the highest mean_test_score as the optimal hyperparameter setting for your KNN model."
   ]
  },
  {
   "cell_type": "code",
   "execution_count": 112,
   "id": "cd3f6810",
   "metadata": {},
   "outputs": [
    {
     "name": "stdout",
     "output_type": "stream",
     "text": [
      "{'n_neighbors': 30}\n"
     ]
    }
   ],
   "source": [
    "# best model parameters\n",
    "print(grid.best_params_)"
   ]
  },
  {
   "cell_type": "code",
   "execution_count": 113,
   "id": "0a4ddb96",
   "metadata": {},
   "outputs": [
    {
     "name": "stdout",
     "output_type": "stream",
     "text": [
      "[1 1 1 1 1 1 1 1 1 1 1 1 1 1 1 1 1 1 1 1 1 1 1 1 1 1 1 1 1 1 1 1 1 1 1 1 1\n",
      " 1 1 1 1 1 1 1 1 1 2 1 1 1 1 2 1 1 1 1 2 1 1 1 1 1 1 1 1 1 1 1 1 1 1 1 1 1\n",
      " 1 1 1 1 1 1 1 1 1 1 1 1 2 1 1 1 1 1 1 1 2 1 1 1 1 1 1 1 1 1 1 1 1 1 1 1 1\n",
      " 1 1 1 1 1 1 1 1 1 1 1 1 1 1 1 1 1 1 1 1 1 1 1 2 1 1 1 1 1 2 1 1 2 1 1]\n",
      "              precision    recall  f1-score   support\n",
      "\n",
      "           1       0.69      0.95      0.80       100\n",
      "           2       0.38      0.07      0.11        46\n",
      "\n",
      "    accuracy                           0.67       146\n",
      "   macro avg       0.53      0.51      0.45       146\n",
      "weighted avg       0.59      0.67      0.58       146\n",
      "\n"
     ]
    },
    {
     "name": "stderr",
     "output_type": "stream",
     "text": [
      "/opt/anaconda3/lib/python3.9/site-packages/sklearn/neighbors/_classification.py:228: FutureWarning: Unlike other reduction functions (e.g. `skew`, `kurtosis`), the default behavior of `mode` typically preserves the axis it acts along. In SciPy 1.11.0, this behavior will change: the default value of `keepdims` will become False, the `axis` over which the statistic is taken will be eliminated, and the value None will no longer be accepted. Set `keepdims` to True or False to avoid this warning.\n",
      "  mode, _ = stats.mode(_y[neigh_ind, k], axis=1)\n"
     ]
    }
   ],
   "source": [
    "# make prediction on test set\n",
    "y_pred = grid.best_estimator_.predict(X_test_scaled) # get predicted labels \n",
    "print(y_pred)\n",
    "y_proba = grid.best_estimator_.predict_proba(X_test_scaled)[:,1] # get probabilities that belong to each class \n",
    "print(classification_report(y_test, y_pred))\n"
   ]
  },
  {
   "cell_type": "markdown",
   "id": "b4528e81",
   "metadata": {},
   "source": [
    "# b. Logistic Regression Classifier"
   ]
  },
  {
   "cell_type": "code",
   "execution_count": 161,
   "id": "7203f675",
   "metadata": {},
   "outputs": [],
   "source": [
    "# load data set into DataFrame\n",
    "import pandas as pd\n",
    "import numpy as np\n",
    "data = pd.read_csv('/Users/Shared/Files From d.localized/Spring2023/AI/programming assignment 1/ILPD.csv', header = 0)"
   ]
  },
  {
   "cell_type": "code",
   "execution_count": 162,
   "id": "64b00805",
   "metadata": {},
   "outputs": [],
   "source": [
    "for index, row in data.iterrows():\n",
    "    if row['Class'] == 1:  # Check if the class label is 1\n",
    "        data.loc[index, 'Class'] = 0  # Replace class label 1 with 0\n",
    "    elif row['Class'] == 2:  # Check if the class label is 2\n",
    "        data.loc[index, 'Class'] = 1  # Replace class label 2 with 1"
   ]
  },
  {
   "cell_type": "code",
   "execution_count": 163,
   "id": "0420fa51",
   "metadata": {},
   "outputs": [
    {
     "name": "stdout",
     "output_type": "stream",
     "text": [
      "Number of cases:  167\n",
      "Number of controls :  416\n",
      "Proportion of case: 28.64%\n"
     ]
    }
   ],
   "source": [
    "# To explore the number of cases (death) and controls (alive finally)\n",
    "        \n",
    "n_case = len(data[data['Class'] == 1]) \n",
    "n_control = len(data[data['Class'] == 0])\n",
    "\n",
    "print('Number of cases: ', n_case)\n",
    "print('Number of controls : ', n_control)\n",
    "\n",
    "print('Proportion of case: %.2f%%' % (100 * n_case / (n_control + n_case)))"
   ]
  },
  {
   "cell_type": "code",
   "execution_count": 165,
   "id": "e53dfc77",
   "metadata": {},
   "outputs": [
    {
     "data": {
      "text/plain": [
       "Text(0, 0.5, 'number of subjects')"
      ]
     },
     "execution_count": 165,
     "metadata": {},
     "output_type": "execute_result"
    },
    {
     "data": {
      "image/png": "[encoded data removed]",
      "text/plain": [
       "<Figure size 640x480 with 1 Axes>"
      ]
     },
     "metadata": {},
     "output_type": "display_data"
    }
   ],
   "source": [
    "# visualize case-control distribution\n",
    "import matplotlib.pyplot as plt\n",
    "plt.bar(['Cases (Class=1)','Controls (Class=0)'], [n_case, n_control])\n",
    "plt.ylabel('number of subjects')"
   ]
  },
  {
   "cell_type": "code",
   "execution_count": 166,
   "id": "f598081c",
   "metadata": {},
   "outputs": [
    {
     "name": "stdout",
     "output_type": "stream",
     "text": [
      "Age                 0.000000\n",
      "Gender              0.000000\n",
      "total Bilirubin     0.000000\n",
      "direct Bilirubin    0.000000\n",
      "total proteins      0.001715\n",
      "albumin             0.005146\n",
      "A/G ratio           0.000000\n",
      "SGPT                0.000000\n",
      "SGOT                0.000000\n",
      "Alkphos             0.006861\n",
      "Class               0.000000\n",
      "dtype: float64\n"
     ]
    }
   ],
   "source": [
    "# To assess missing values\n",
    "print(data.isnull().sum() / len(data))"
   ]
  },
  {
   "cell_type": "code",
   "execution_count": 167,
   "id": "744f7101",
   "metadata": {},
   "outputs": [
    {
     "data": {
      "text/html": [
       "<div>\n",
       "<style scoped>\n",
       "    .dataframe tbody tr th:only-of-type {\n",
       "        vertical-align: middle;\n",
       "    }\n",
       "\n",
       "    .dataframe tbody tr th {\n",
       "        vertical-align: top;\n",
       "    }\n",
       "\n",
       "    .dataframe thead th {\n",
       "        text-align: right;\n",
       "    }\n",
       "</style>\n",
       "<table border=\"1\" class=\"dataframe\">\n",
       "  <thead>\n",
       "    <tr style=\"text-align: right;\">\n",
       "      <th></th>\n",
       "      <th>Age</th>\n",
       "      <th>total Bilirubin</th>\n",
       "      <th>direct Bilirubin</th>\n",
       "      <th>total proteins</th>\n",
       "      <th>albumin</th>\n",
       "      <th>A/G ratio</th>\n",
       "      <th>SGPT</th>\n",
       "      <th>SGOT</th>\n",
       "      <th>Alkphos</th>\n",
       "    </tr>\n",
       "  </thead>\n",
       "  <tbody>\n",
       "    <tr>\n",
       "      <th>count</th>\n",
       "      <td>583.000000</td>\n",
       "      <td>583.000000</td>\n",
       "      <td>583.000000</td>\n",
       "      <td>582.000000</td>\n",
       "      <td>580.000000</td>\n",
       "      <td>583.000000</td>\n",
       "      <td>583.000000</td>\n",
       "      <td>583.000000</td>\n",
       "      <td>579.000000</td>\n",
       "    </tr>\n",
       "    <tr>\n",
       "      <th>mean</th>\n",
       "      <td>44.746141</td>\n",
       "      <td>3.298799</td>\n",
       "      <td>1.486106</td>\n",
       "      <td>290.422680</td>\n",
       "      <td>80.898276</td>\n",
       "      <td>109.910806</td>\n",
       "      <td>6.483190</td>\n",
       "      <td>3.141852</td>\n",
       "      <td>0.947064</td>\n",
       "    </tr>\n",
       "    <tr>\n",
       "      <th>std</th>\n",
       "      <td>16.189833</td>\n",
       "      <td>6.209522</td>\n",
       "      <td>2.808498</td>\n",
       "      <td>243.118615</td>\n",
       "      <td>183.063760</td>\n",
       "      <td>288.918529</td>\n",
       "      <td>1.085451</td>\n",
       "      <td>0.795519</td>\n",
       "      <td>0.319592</td>\n",
       "    </tr>\n",
       "    <tr>\n",
       "      <th>min</th>\n",
       "      <td>4.000000</td>\n",
       "      <td>0.400000</td>\n",
       "      <td>0.100000</td>\n",
       "      <td>63.000000</td>\n",
       "      <td>10.000000</td>\n",
       "      <td>10.000000</td>\n",
       "      <td>2.700000</td>\n",
       "      <td>0.900000</td>\n",
       "      <td>0.300000</td>\n",
       "    </tr>\n",
       "    <tr>\n",
       "      <th>25%</th>\n",
       "      <td>33.000000</td>\n",
       "      <td>0.800000</td>\n",
       "      <td>0.200000</td>\n",
       "      <td>175.250000</td>\n",
       "      <td>23.000000</td>\n",
       "      <td>25.000000</td>\n",
       "      <td>5.800000</td>\n",
       "      <td>2.600000</td>\n",
       "      <td>0.700000</td>\n",
       "    </tr>\n",
       "    <tr>\n",
       "      <th>50%</th>\n",
       "      <td>45.000000</td>\n",
       "      <td>1.000000</td>\n",
       "      <td>0.300000</td>\n",
       "      <td>208.000000</td>\n",
       "      <td>35.000000</td>\n",
       "      <td>42.000000</td>\n",
       "      <td>6.600000</td>\n",
       "      <td>3.100000</td>\n",
       "      <td>0.930000</td>\n",
       "    </tr>\n",
       "    <tr>\n",
       "      <th>75%</th>\n",
       "      <td>58.000000</td>\n",
       "      <td>2.600000</td>\n",
       "      <td>1.300000</td>\n",
       "      <td>298.000000</td>\n",
       "      <td>60.250000</td>\n",
       "      <td>87.000000</td>\n",
       "      <td>7.200000</td>\n",
       "      <td>3.800000</td>\n",
       "      <td>1.100000</td>\n",
       "    </tr>\n",
       "    <tr>\n",
       "      <th>max</th>\n",
       "      <td>90.000000</td>\n",
       "      <td>75.000000</td>\n",
       "      <td>19.700000</td>\n",
       "      <td>2110.000000</td>\n",
       "      <td>2000.000000</td>\n",
       "      <td>4929.000000</td>\n",
       "      <td>9.600000</td>\n",
       "      <td>5.500000</td>\n",
       "      <td>2.800000</td>\n",
       "    </tr>\n",
       "  </tbody>\n",
       "</table>\n",
       "</div>"
      ],
      "text/plain": [
       "              Age  total Bilirubin  direct Bilirubin  total proteins  \\\n",
       "count  583.000000       583.000000        583.000000      582.000000   \n",
       "mean    44.746141         3.298799          1.486106      290.422680   \n",
       "std     16.189833         6.209522          2.808498      243.118615   \n",
       "min      4.000000         0.400000          0.100000       63.000000   \n",
       "25%     33.000000         0.800000          0.200000      175.250000   \n",
       "50%     45.000000         1.000000          0.300000      208.000000   \n",
       "75%     58.000000         2.600000          1.300000      298.000000   \n",
       "max     90.000000        75.000000         19.700000     2110.000000   \n",
       "\n",
       "           albumin    A/G ratio        SGPT        SGOT     Alkphos  \n",
       "count   580.000000   583.000000  583.000000  583.000000  579.000000  \n",
       "mean     80.898276   109.910806    6.483190    3.141852    0.947064  \n",
       "std     183.063760   288.918529    1.085451    0.795519    0.319592  \n",
       "min      10.000000    10.000000    2.700000    0.900000    0.300000  \n",
       "25%      23.000000    25.000000    5.800000    2.600000    0.700000  \n",
       "50%      35.000000    42.000000    6.600000    3.100000    0.930000  \n",
       "75%      60.250000    87.000000    7.200000    3.800000    1.100000  \n",
       "max    2000.000000  4929.000000    9.600000    5.500000    2.800000  "
      ]
     },
     "execution_count": 167,
     "metadata": {},
     "output_type": "execute_result"
    }
   ],
   "source": [
    "data.loc[data['Gender'] == 'Male', 'Gender'] = 1\n",
    "data.loc[data['Gender'] == 'Female', 'Gender'] = 0\n",
    "data.drop(columns = ['Class']).describe()"
   ]
  },
  {
   "cell_type": "code",
   "execution_count": 168,
   "id": "d079130f",
   "metadata": {},
   "outputs": [
    {
     "name": "stdout",
     "output_type": "stream",
     "text": [
      "(524, 10) (59, 10) (524,) (59,)\n"
     ]
    }
   ],
   "source": [
    "from sklearn.model_selection import train_test_split\n",
    "y = data['Class'].values\n",
    "X = data.drop(columns = ['Class']).values\n",
    "feature_used = data.drop(columns = ['Class']).columns.tolist()\n",
    "X_train, X_test, y_train, y_test = train_test_split(X, y,\n",
    "test_size=0.10, random_state=0)\n",
    "print(X_train.shape, X_test.shape, y_train.shape, y_test.shape)"
   ]
  },
  {
   "cell_type": "code",
   "execution_count": 169,
   "id": "c8efef72",
   "metadata": {},
   "outputs": [],
   "source": [
    "# impute the missing values\n",
    "from sklearn.impute import SimpleImputer\n",
    "imputer = SimpleImputer(missing_values=np.nan, strategy='mean')\n",
    "imputer.fit(X_train)\n",
    "X_train = np.array(imputer.transform(X_train), dtype=np.float32)\n",
    "X_test = np.array(imputer.transform(X_test), dtype=np.float32)"
   ]
  },
  {
   "cell_type": "code",
   "execution_count": 170,
   "id": "dc803b9a",
   "metadata": {},
   "outputs": [],
   "source": [
    "# Data scaling\n",
    "from sklearn.preprocessing import StandardScaler \n",
    "scaler = StandardScaler()\n",
    "scaler.fit(X_train)\n",
    "X_train_scaled = scaler.transform(X_train) \n",
    "X_test_scaled = scaler.transform(X_test)"
   ]
  },
  {
   "cell_type": "code",
   "execution_count": 171,
   "id": "1fbabee8",
   "metadata": {},
   "outputs": [],
   "source": [
    "# build logistic regression classifer\n",
    "from sklearn.linear_model import LogisticRegression \n",
    "lr = LogisticRegression()"
   ]
  },
  {
   "cell_type": "code",
   "execution_count": 172,
   "id": "822f4db7",
   "metadata": {},
   "outputs": [],
   "source": [
    "# Setting parameters for GridSearchCV\n",
    "params = {\n",
    "'penalty':['l2'], 'C':[0.01,0.1,1,10,100, 200, 300], \n",
    "    'class_weight':['balanced',None]\n",
    "}\n",
    "#penalty: This parameter specifies the norm used in the penalization (regularization) term of the logistic regression algorithm.\n",
    "# 'l2' indicates the L2 regularization, which penalizes the squared magnitude of coefficients. \n",
    "# It's commonly used to prevent overfitting.\n",
    "# C: This parameter represents the inverse of regularization strength. Larger values of C indicate less regularization.\n",
    "# The specified values [0.01, 0.1, 1, 10, 100, 200, 300] represent different levels of regularization strength that will be tested during the grid search."
   ]
  },
  {
   "cell_type": "code",
   "execution_count": 173,
   "id": "db7c606a",
   "metadata": {},
   "outputs": [
    {
     "data": {
      "text/plain": [
       "{'C': 1, 'class_weight': None, 'penalty': 'l2'}"
      ]
     },
     "execution_count": 173,
     "metadata": {},
     "output_type": "execute_result"
    }
   ],
   "source": [
    "#  train model with Grid Search\n",
    "grid = GridSearchCV(lr, param_grid=params, scoring='roc_auc', cv=10)\n",
    "grid.fit(X_train_scaled,y_train)\n",
    "# Printing best parameters choosen through GridSearchCV\n",
    "grid.best_params_"
   ]
  },
  {
   "cell_type": "code",
   "execution_count": 174,
   "id": "9d233db7",
   "metadata": {},
   "outputs": [],
   "source": [
    "# make prediction on the test set\n",
    "y_pred = grid.best_estimator_.predict(X_test_scaled)\n",
    "y_proba = grid.best_estimator_.predict_proba(X_test_scaled)[:,1]"
   ]
  },
  {
   "cell_type": "code",
   "execution_count": 175,
   "id": "247cc384",
   "metadata": {},
   "outputs": [
    {
     "name": "stdout",
     "output_type": "stream",
     "text": [
      "              precision    recall  f1-score   support\n",
      "\n",
      "           0       0.80      0.96      0.87        45\n",
      "           1       0.60      0.21      0.32        14\n",
      "\n",
      "    accuracy                           0.78        59\n",
      "   macro avg       0.70      0.58      0.59        59\n",
      "weighted avg       0.75      0.78      0.74        59\n",
      "\n"
     ]
    }
   ],
   "source": [
    "# output the precision, recall, and f1-score\n",
    "from sklearn.metrics import classification_report \n",
    "print(classification_report(y_test, y_pred))"
   ]
  },
  {
   "cell_type": "code",
   "execution_count": 178,
   "id": "61bf6588",
   "metadata": {},
   "outputs": [],
   "source": [
    "from sklearn.metrics import roc_auc_score,roc_curve \n",
    "\n",
    "#Create true and false positive rates\n",
    "\n",
    "fpr_lr, tpr_lr, threshold_lr = roc_curve(y_test,y_proba)\n",
    "# Assuming y_true and y_pred are your true labels and predicted probabilities\n",
    "roc_auc = roc_auc_score(y_test, y_proba)"
   ]
  },
  {
   "cell_type": "code",
   "execution_count": 179,
   "id": "19775f0d",
   "metadata": {},
   "outputs": [
    {
     "data": {
      "image/png": "[encoded data removed]",
      "text/plain": [
       "<Figure size 1000x600 with 1 Axes>"
      ]
     },
     "metadata": {},
     "output_type": "display_data"
    }
   ],
   "source": [
    "#Plot ROC Curve\n",
    "import matplotlib.pyplot as plt\n",
    "\n",
    "plt.figure(figsize=(10,6)) \n",
    "plt.title('Revceiver Operating Characterstic') \n",
    "plt.plot(fpr_lr, tpr_lr) \n",
    "plt.plot([0,1],ls='--') \n",
    "plt.plot([0,0],[1,0],c='.5') \n",
    "plt.plot([1,1],c='.5')\n",
    "plt.xlabel('False Positive Rate') \n",
    "plt.ylabel('True Positive Rate')\n",
    "plt.show()"
   ]
  },
  {
   "cell_type": "code",
   "execution_count": 180,
   "id": "9bca21db",
   "metadata": {},
   "outputs": [
    {
     "name": "stdout",
     "output_type": "stream",
     "text": [
      "0.7730158730158729\n"
     ]
    }
   ],
   "source": [
    "#Calculate area under the curve\n",
    "auc_lr = roc_auc_score(y_test, y_proba) \n",
    "print(auc_lr)"
   ]
  },
  {
   "cell_type": "code",
   "execution_count": null,
   "id": "55475069",
   "metadata": {},
   "outputs": [],
   "source": []
  }
 ],
 "metadata": {
  "kernelspec": {
   "display_name": "Python 3 (ipykernel)",
   "language": "python",
   "name": "python3"
  },
  "language_info": {
   "codemirror_mode": {
    "name": "ipython",
    "version": 3
   },
   "file_extension": ".py",
   "mimetype": "text/x-python",
   "name": "python",
   "nbconvert_exporter": "python",
   "pygments_lexer": "ipython3",
   "version": "3.9.13"
  }
 },
 "nbformat": 4,
 "nbformat_minor": 5
}
